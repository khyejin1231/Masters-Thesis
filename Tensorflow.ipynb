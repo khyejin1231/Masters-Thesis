{
  "nbformat": 4,
  "nbformat_minor": 0,
  "metadata": {
    "colab": {
      "name": "Tensorflow.ipynb",
      "provenance": [],
      "machine_shape": "hm",
      "authorship_tag": "ABX9TyMeCS8W9vuPrv3Pnf66mJD3",
      "include_colab_link": true
    },
    "kernelspec": {
      "name": "python3",
      "display_name": "Python 3"
    },
    "language_info": {
      "name": "python"
    },
    "accelerator": "GPU"
  },
  "cells": [
    {
      "cell_type": "markdown",
      "metadata": {
        "id": "view-in-github",
        "colab_type": "text"
      },
      "source": [
        "<a href=\"https://colab.research.google.com/github/khyejin1231/Masters-Thesis/blob/main/Tensorflow.ipynb\" target=\"_parent\"><img src=\"https://colab.research.google.com/assets/colab-badge.svg\" alt=\"Open In Colab\"/></a>"
      ]
    },
    {
      "cell_type": "code",
      "source": [
        "!pip install -q -U keras-tuner"
      ],
      "metadata": {
        "colab": {
          "base_uri": "https://localhost:8080/"
        },
        "id": "UGEOmEB5hTFE",
        "outputId": "b5524115-ac93-46e3-80f1-662c355c5e3b"
      },
      "execution_count": 6,
      "outputs": [
        {
          "output_type": "stream",
          "name": "stdout",
          "text": [
            "\u001b[?25l\r\u001b[K     |██▌                             | 10 kB 37.6 MB/s eta 0:00:01\r\u001b[K     |█████                           | 20 kB 42.9 MB/s eta 0:00:01\r\u001b[K     |███████▍                        | 30 kB 25.4 MB/s eta 0:00:01\r\u001b[K     |█████████▉                      | 40 kB 13.8 MB/s eta 0:00:01\r\u001b[K     |████████████▎                   | 51 kB 13.1 MB/s eta 0:00:01\r\u001b[K     |██████████████▊                 | 61 kB 15.2 MB/s eta 0:00:01\r\u001b[K     |█████████████████▏              | 71 kB 14.5 MB/s eta 0:00:01\r\u001b[K     |███████████████████▋            | 81 kB 12.3 MB/s eta 0:00:01\r\u001b[K     |██████████████████████          | 92 kB 13.4 MB/s eta 0:00:01\r\u001b[K     |████████████████████████▌       | 102 kB 14.1 MB/s eta 0:00:01\r\u001b[K     |███████████████████████████     | 112 kB 14.1 MB/s eta 0:00:01\r\u001b[K     |█████████████████████████████▍  | 122 kB 14.1 MB/s eta 0:00:01\r\u001b[K     |███████████████████████████████▉| 133 kB 14.1 MB/s eta 0:00:01\r\u001b[K     |████████████████████████████████| 133 kB 14.1 MB/s \n",
            "\u001b[?25h"
          ]
        }
      ]
    },
    {
      "cell_type": "code",
      "source": [
        "import tensorflow as tf\n",
        "from tensorflow import keras\n",
        "import keras_tuner as kt"
      ],
      "metadata": {
        "id": "PGFRuc09hKZe"
      },
      "execution_count": 7,
      "outputs": []
    },
    {
      "cell_type": "code",
      "source": [
        "#Let's first load the data\n",
        "from google.colab import drive\n",
        "import os\n",
        "import pandas as pd\n",
        "#drive.mount('/content/drive', force_remount = True)\n",
        "#PATH = '/content/drive/My Drive/Colab Notebooks/BDS_Thesis'\n",
        "\n",
        "#!pip install pickle5\n",
        "#import pickle5 as pickle\n",
        "\n",
        "#infile = open(PATH+'/final_labels_no_artists_lemma_10.pkl','rb')\n",
        "#df = pickle.load(infile)\n",
        "\n",
        "\n",
        "#url = 'https://github.com/khyejin1231/Masters-Thesis/blob/main/final_labels_no_artists_lemma_10.pkl?raw=true'\n",
        "\n",
        "df = pd.read_csv('/content/drive/My Drive/Colab Notebooks/BDS_Thesis/joined_selected_BERT_xartist_lemma10.csv')\n",
        "df = df.iloc[:,1:]\n",
        "#df.reset_index(drop=True, inplace=True)\n",
        "#df = df.drop_duplicates(keep='first')"
      ],
      "metadata": {
        "colab": {
          "base_uri": "https://localhost:8080/"
        },
        "id": "7jWVn3p8hggl",
        "outputId": "150eee66-a803-469f-982a-0398a151c327"
      },
      "execution_count": 10,
      "outputs": [
        {
          "output_type": "stream",
          "name": "stdout",
          "text": [
            "Mounted at /content/drive\n"
          ]
        }
      ]
    },
    {
      "cell_type": "code",
      "source": [
        "embeddings = df.iloc[:, 0:767]\n",
        "y = df.iloc[:,-1]"
      ],
      "metadata": {
        "id": "uzZC5IoSvk1Z"
      },
      "execution_count": 87,
      "outputs": []
    },
    {
      "cell_type": "code",
      "source": [
        "#Define train and test set.\n",
        "from sklearn.model_selection import train_test_split\n",
        "from torch.utils.data import TensorDataset, random_split\n",
        "from torch.utils.data import DataLoader, RandomSampler, SequentialSampler\n",
        "import torch\n",
        "import numpy as np\n",
        "\n",
        "embeddings = np.array(embeddings)\n",
        "y = np.array(y)\n",
        "\n",
        "train_features, test_features, train_labels, test_labels = train_test_split(embeddings, y, stratify=y, test_size=0.2)\n",
        "train_features, val_features, train_labels, val_labels = train_test_split(train_features, train_labels, stratify=train_labels, test_size=0.2)\n",
        "\n",
        "\n",
        "# Combine the training inputs into a TensorDataset.\n"
      ],
      "metadata": {
        "id": "-P3LrF3zhoEv"
      },
      "execution_count": 88,
      "outputs": []
    },
    {
      "cell_type": "code",
      "execution_count": 13,
      "metadata": {
        "colab": {
          "base_uri": "https://localhost:8080/"
        },
        "id": "vE89R9jign_5",
        "outputId": "cf7eeced-3ac7-471e-c716-fc2ffc74903f"
      },
      "outputs": [
        {
          "output_type": "stream",
          "name": "stdout",
          "text": [
            "Found GPU at: /device:GPU:0\n"
          ]
        }
      ],
      "source": [
        "#GPU connection\n",
        "%tensorflow_version 2.x\n",
        "import tensorflow as tf\n",
        "device_name = tf.test.gpu_device_name()\n",
        "if device_name != '/device:GPU:0':\n",
        "  raise SystemError('GPU device not found')\n",
        "print('Found GPU at: {}'.format(device_name))"
      ]
    },
    {
      "cell_type": "code",
      "source": [
        "'''\n",
        "#Simple model\n",
        "\n",
        "from tensorflow import keras\n",
        "from tensorflow.keras import layers\n",
        "import keras_tuner\n",
        "#Model building\n",
        "def model(hp):\n",
        "  with tf.device('/device:GPU:0'):\n",
        "    model = keras.Sequential()\n",
        "    model.add(keras.layers.Flatten())\n",
        "\n",
        "  # Tune the number of units in the first Dense layer\n",
        "  # Choose an optimal value between 32-512\n",
        "    hp_units1 = hp.Int('units', min_value=32, max_value=512, step=32)\n",
        "    hp_units2 = hp.Int('units', min_value=32, max_value=512, step=32)\n",
        "    model.add(layers.Dense(units=hp_units1, activation='relu'))\n",
        "    model.add(layers.Dense(units=hp_units2, activation='relu'))\n",
        "    model.add(layers.Dense(1, activation=\"softmax\"))\n",
        "\n",
        "  # Tune the learning rate for the optimizer\n",
        "  # Choose an optimal value from 0.01, 0.001, or 0.0001\n",
        "    hp_learning_rate = hp.Choice('learning_rate', values=[1e-2, 1e-3, 1e-4])\n",
        "\n",
        "    model.compile(optimizer=keras.optimizers.Adam(learning_rate=hp_learning_rate),\n",
        "                  loss=tf.keras.losses.BinaryCrossentropy(from_logits=True),\n",
        "                  metrics=[tf.keras.metrics.BinaryAccuracy()])\n",
        "    return model\n",
        "\n",
        "model(keras_tuner.HyperParameters())"
      ],
      "metadata": {
        "id": "ZVEOg_tWhCVp"
      },
      "execution_count": 39,
      "outputs": []
    },
    {
      "cell_type": "code",
      "source": [
        "#Advanced model\n",
        "#We should shuffle the data each epoch\n",
        "class MyHyperModel(keras_tuner.HyperModel):\n",
        "  def build(self, hp):\n",
        "    with tf.device('/device:GPU:0'):\n",
        "      model = keras.Sequential()\n",
        "      model.add(layers.Flatten())\n",
        "      # Tune the number of layers.\n",
        "      for i in range(hp.Int(\"num_layers\", 1, 10)):\n",
        "          model.add(\n",
        "              layers.Dense(\n",
        "                  # Tune number of units separately.\n",
        "                  units=hp.Int(f\"units_{i}\", min_value=32, max_value=512, step=32),\n",
        "                  activation=hp.Choice(\"activation\", [\"relu\", \"tanh\"]),\n",
        "              )\n",
        "          )\n",
        "      if hp.Boolean(\"dropout\"):\n",
        "          model.add(layers.Dropout(rate=0.25))\n",
        "      \n",
        "      model.add(layers.Dense(1, activation=\"sigmoid\"))\n",
        "      \n",
        "      learning_rate = hp.Float(\"lr\", min_value=1e-4, max_value=1e-2, sampling=\"log\")\n",
        "      model.compile(\n",
        "          optimizer=keras.optimizers.Adam(learning_rate=learning_rate),\n",
        "          loss=tf.keras.losses.BinaryCrossentropy(from_logits=True),\n",
        "          metrics=[tf.keras.metrics.BinaryAccuracy()])\n",
        "      return model\n",
        "\n",
        "  def fit(self, hp, model, x, y, validation_data = None, **kwargs):\n",
        "        \n",
        "        #We try normalization here\n",
        "        if hp.Boolean(\"normalize\"):\n",
        "          x = layers.Normalization()(x)\n",
        "        if validation_data:\n",
        "          x_val, y_val = validation_data\n",
        "          validation_data = (x_val, y_val)\n",
        "        \n",
        "        return model.fit(\n",
        "            x, y,\n",
        "            # Tune whether to shuffle the data in each epoch.\n",
        "            shuffle=hp.Boolean(\"shuffle\"),\n",
        "            validation_data = validation_data,\n",
        "            **kwargs,\n",
        "        )\n",
        "\n",
        "\n",
        "tuner = kt.Hyperband(MyHyperModel(),\n",
        "                     objective='val_binary_accuracy',\n",
        "                     max_epochs=20,\n",
        "                     overwrite=True,\n",
        "                     factor=3,\n",
        "                     directory='/content/drive/My Drive/Colab Notebooks/BDS_Thesis',\n",
        "                     project_name='keras')\n",
        "\n",
        "tuner.search(train_features, train_labels, epochs=10, validation_data=(val_features, val_labels))"
      ],
      "metadata": {
        "colab": {
          "base_uri": "https://localhost:8080/",
          "height": 1000
        },
        "id": "kXehoDvRFm81",
        "outputId": "4fe98386-2e21-4645-ad0d-1d2ae091199b"
      },
      "execution_count": 102,
      "outputs": [
        {
          "output_type": "stream",
          "name": "stdout",
          "text": [
            "Trial 5 Complete [00h 00m 14s]\n",
            "val_binary_accuracy: 0.5861714482307434\n",
            "\n",
            "Best val_binary_accuracy So Far: 0.6338285803794861\n",
            "Total elapsed time: 00h 01m 19s\n",
            "\n",
            "Search: Running Trial #6\n",
            "\n",
            "Value             |Best Value So Far |Hyperparameter\n",
            "9                 |4                 |num_layers\n",
            "416               |192               |units_0\n",
            "tanh              |tanh              |activation\n",
            "True              |False             |dropout\n",
            "0.0043869         |0.00037477        |lr\n",
            "480               |32                |units_1\n",
            "64                |32                |units_2\n",
            "224               |32                |units_3\n",
            "True              |False             |normalize\n",
            "True              |False             |shuffle\n",
            "416               |None              |units_4\n",
            "448               |None              |units_5\n",
            "160               |None              |units_6\n",
            "448               |None              |units_7\n",
            "3                 |3                 |tuner/epochs\n",
            "0                 |0                 |tuner/initial_epoch\n",
            "2                 |2                 |tuner/bracket\n",
            "0                 |0                 |tuner/round\n",
            "\n"
          ]
        },
        {
          "output_type": "stream",
          "name": "stderr",
          "text": [
            "Traceback (most recent call last):\n",
            "  File \"/usr/local/lib/python3.7/dist-packages/keras_tuner/engine/tuner.py\", line 158, in _try_build\n",
            "    model = self._build_hypermodel(hp)\n",
            "  File \"/usr/local/lib/python3.7/dist-packages/keras_tuner/engine/tuner.py\", line 146, in _build_hypermodel\n",
            "    model = self.hypermodel.build(hp)\n",
            "  File \"/usr/local/lib/python3.7/dist-packages/keras_tuner/engine/hypermodel.py\", line 111, in _build_wrapper\n",
            "    return self._build(hp, *args, **kwargs)\n",
            "  File \"<ipython-input-102-3250347c993f>\", line 18, in build\n",
            "    drop = hp.Choice(\"drop\", [0.1,0.2,0.3,0.4], parent_name = \"dropout\")\n",
            "  File \"/usr/local/lib/python3.7/dist-packages/keras_tuner/engine/hyperparameters.py\", line 787, in Choice\n",
            "    with self._maybe_conditional_scope(parent_name, parent_values):\n",
            "  File \"/usr/lib/python3.7/contextlib.py\", line 112, in __enter__\n",
            "    return next(self.gen)\n",
            "  File \"/usr/local/lib/python3.7/dist-packages/keras_tuner/engine/hyperparameters.py\", line 1077, in _maybe_conditional_scope\n",
            "    with self.conditional_scope(parent_name, parent_values):\n",
            "  File \"/usr/lib/python3.7/contextlib.py\", line 112, in __enter__\n",
            "    return next(self.gen)\n",
            "  File \"/usr/local/lib/python3.7/dist-packages/keras_tuner/engine/hyperparameters.py\", line 632, in conditional_scope\n",
            "    condition = conditions_mod.Parent(parent_name, parent_values)\n",
            "  File \"/usr/local/lib/python3.7/dist-packages/keras_tuner/engine/conditions.py\", line 108, in __init__\n",
            "    \"types: \" + str(type(first_val))\n",
            "TypeError: Can contain only `int`, `float`, `str`, or `bool`, found values: [None]with types: <class 'NoneType'>\n",
            "Traceback (most recent call last):\n",
            "  File \"/usr/local/lib/python3.7/dist-packages/keras_tuner/engine/tuner.py\", line 158, in _try_build\n",
            "    model = self._build_hypermodel(hp)\n",
            "  File \"/usr/local/lib/python3.7/dist-packages/keras_tuner/engine/tuner.py\", line 146, in _build_hypermodel\n",
            "    model = self.hypermodel.build(hp)\n",
            "  File \"/usr/local/lib/python3.7/dist-packages/keras_tuner/engine/hypermodel.py\", line 111, in _build_wrapper\n",
            "    return self._build(hp, *args, **kwargs)\n",
            "  File \"<ipython-input-102-3250347c993f>\", line 18, in build\n",
            "    drop = hp.Choice(\"drop\", [0.1,0.2,0.3,0.4], parent_name = \"dropout\")\n",
            "  File \"/usr/local/lib/python3.7/dist-packages/keras_tuner/engine/hyperparameters.py\", line 787, in Choice\n",
            "    with self._maybe_conditional_scope(parent_name, parent_values):\n",
            "  File \"/usr/lib/python3.7/contextlib.py\", line 112, in __enter__\n",
            "    return next(self.gen)\n",
            "  File \"/usr/local/lib/python3.7/dist-packages/keras_tuner/engine/hyperparameters.py\", line 1077, in _maybe_conditional_scope\n",
            "    with self.conditional_scope(parent_name, parent_values):\n",
            "  File \"/usr/lib/python3.7/contextlib.py\", line 112, in __enter__\n",
            "    return next(self.gen)\n",
            "  File \"/usr/local/lib/python3.7/dist-packages/keras_tuner/engine/hyperparameters.py\", line 632, in conditional_scope\n",
            "    condition = conditions_mod.Parent(parent_name, parent_values)\n",
            "  File \"/usr/local/lib/python3.7/dist-packages/keras_tuner/engine/conditions.py\", line 108, in __init__\n",
            "    \"types: \" + str(type(first_val))\n",
            "TypeError: Can contain only `int`, `float`, `str`, or `bool`, found values: [None]with types: <class 'NoneType'>\n"
          ]
        },
        {
          "output_type": "stream",
          "name": "stdout",
          "text": [
            "Invalid model 0/5\n",
            "Invalid model 1/5\n"
          ]
        },
        {
          "output_type": "stream",
          "name": "stderr",
          "text": [
            "Traceback (most recent call last):\n",
            "  File \"/usr/local/lib/python3.7/dist-packages/keras_tuner/engine/tuner.py\", line 158, in _try_build\n",
            "    model = self._build_hypermodel(hp)\n",
            "  File \"/usr/local/lib/python3.7/dist-packages/keras_tuner/engine/tuner.py\", line 146, in _build_hypermodel\n",
            "    model = self.hypermodel.build(hp)\n",
            "  File \"/usr/local/lib/python3.7/dist-packages/keras_tuner/engine/hypermodel.py\", line 111, in _build_wrapper\n",
            "    return self._build(hp, *args, **kwargs)\n",
            "  File \"<ipython-input-102-3250347c993f>\", line 18, in build\n",
            "    drop = hp.Choice(\"drop\", [0.1,0.2,0.3,0.4], parent_name = \"dropout\")\n",
            "  File \"/usr/local/lib/python3.7/dist-packages/keras_tuner/engine/hyperparameters.py\", line 787, in Choice\n",
            "    with self._maybe_conditional_scope(parent_name, parent_values):\n",
            "  File \"/usr/lib/python3.7/contextlib.py\", line 112, in __enter__\n",
            "    return next(self.gen)\n",
            "  File \"/usr/local/lib/python3.7/dist-packages/keras_tuner/engine/hyperparameters.py\", line 1077, in _maybe_conditional_scope\n",
            "    with self.conditional_scope(parent_name, parent_values):\n",
            "  File \"/usr/lib/python3.7/contextlib.py\", line 112, in __enter__\n",
            "    return next(self.gen)\n",
            "  File \"/usr/local/lib/python3.7/dist-packages/keras_tuner/engine/hyperparameters.py\", line 632, in conditional_scope\n",
            "    condition = conditions_mod.Parent(parent_name, parent_values)\n",
            "  File \"/usr/local/lib/python3.7/dist-packages/keras_tuner/engine/conditions.py\", line 108, in __init__\n",
            "    \"types: \" + str(type(first_val))\n",
            "TypeError: Can contain only `int`, `float`, `str`, or `bool`, found values: [None]with types: <class 'NoneType'>\n",
            "Traceback (most recent call last):\n",
            "  File \"/usr/local/lib/python3.7/dist-packages/keras_tuner/engine/tuner.py\", line 158, in _try_build\n",
            "    model = self._build_hypermodel(hp)\n",
            "  File \"/usr/local/lib/python3.7/dist-packages/keras_tuner/engine/tuner.py\", line 146, in _build_hypermodel\n",
            "    model = self.hypermodel.build(hp)\n",
            "  File \"/usr/local/lib/python3.7/dist-packages/keras_tuner/engine/hypermodel.py\", line 111, in _build_wrapper\n",
            "    return self._build(hp, *args, **kwargs)\n",
            "  File \"<ipython-input-102-3250347c993f>\", line 18, in build\n",
            "    drop = hp.Choice(\"drop\", [0.1,0.2,0.3,0.4], parent_name = \"dropout\")\n",
            "  File \"/usr/local/lib/python3.7/dist-packages/keras_tuner/engine/hyperparameters.py\", line 787, in Choice\n",
            "    with self._maybe_conditional_scope(parent_name, parent_values):\n",
            "  File \"/usr/lib/python3.7/contextlib.py\", line 112, in __enter__\n",
            "    return next(self.gen)\n",
            "  File \"/usr/local/lib/python3.7/dist-packages/keras_tuner/engine/hyperparameters.py\", line 1077, in _maybe_conditional_scope\n",
            "    with self.conditional_scope(parent_name, parent_values):\n",
            "  File \"/usr/lib/python3.7/contextlib.py\", line 112, in __enter__\n",
            "    return next(self.gen)\n",
            "  File \"/usr/local/lib/python3.7/dist-packages/keras_tuner/engine/hyperparameters.py\", line 632, in conditional_scope\n",
            "    condition = conditions_mod.Parent(parent_name, parent_values)\n",
            "  File \"/usr/local/lib/python3.7/dist-packages/keras_tuner/engine/conditions.py\", line 108, in __init__\n",
            "    \"types: \" + str(type(first_val))\n",
            "TypeError: Can contain only `int`, `float`, `str`, or `bool`, found values: [None]with types: <class 'NoneType'>\n"
          ]
        },
        {
          "output_type": "stream",
          "name": "stdout",
          "text": [
            "Invalid model 2/5\n",
            "Invalid model 3/5\n",
            "Invalid model 4/5\n",
            "Invalid model 5/5\n"
          ]
        },
        {
          "output_type": "stream",
          "name": "stderr",
          "text": [
            "Traceback (most recent call last):\n",
            "  File \"/usr/local/lib/python3.7/dist-packages/keras_tuner/engine/tuner.py\", line 158, in _try_build\n",
            "    model = self._build_hypermodel(hp)\n",
            "  File \"/usr/local/lib/python3.7/dist-packages/keras_tuner/engine/tuner.py\", line 146, in _build_hypermodel\n",
            "    model = self.hypermodel.build(hp)\n",
            "  File \"/usr/local/lib/python3.7/dist-packages/keras_tuner/engine/hypermodel.py\", line 111, in _build_wrapper\n",
            "    return self._build(hp, *args, **kwargs)\n",
            "  File \"<ipython-input-102-3250347c993f>\", line 18, in build\n",
            "    drop = hp.Choice(\"drop\", [0.1,0.2,0.3,0.4], parent_name = \"dropout\")\n",
            "  File \"/usr/local/lib/python3.7/dist-packages/keras_tuner/engine/hyperparameters.py\", line 787, in Choice\n",
            "    with self._maybe_conditional_scope(parent_name, parent_values):\n",
            "  File \"/usr/lib/python3.7/contextlib.py\", line 112, in __enter__\n",
            "    return next(self.gen)\n",
            "  File \"/usr/local/lib/python3.7/dist-packages/keras_tuner/engine/hyperparameters.py\", line 1077, in _maybe_conditional_scope\n",
            "    with self.conditional_scope(parent_name, parent_values):\n",
            "  File \"/usr/lib/python3.7/contextlib.py\", line 112, in __enter__\n",
            "    return next(self.gen)\n",
            "  File \"/usr/local/lib/python3.7/dist-packages/keras_tuner/engine/hyperparameters.py\", line 632, in conditional_scope\n",
            "    condition = conditions_mod.Parent(parent_name, parent_values)\n",
            "  File \"/usr/local/lib/python3.7/dist-packages/keras_tuner/engine/conditions.py\", line 108, in __init__\n",
            "    \"types: \" + str(type(first_val))\n",
            "TypeError: Can contain only `int`, `float`, `str`, or `bool`, found values: [None]with types: <class 'NoneType'>\n",
            "Traceback (most recent call last):\n",
            "  File \"/usr/local/lib/python3.7/dist-packages/keras_tuner/engine/tuner.py\", line 158, in _try_build\n",
            "    model = self._build_hypermodel(hp)\n",
            "  File \"/usr/local/lib/python3.7/dist-packages/keras_tuner/engine/tuner.py\", line 146, in _build_hypermodel\n",
            "    model = self.hypermodel.build(hp)\n",
            "  File \"/usr/local/lib/python3.7/dist-packages/keras_tuner/engine/hypermodel.py\", line 111, in _build_wrapper\n",
            "    return self._build(hp, *args, **kwargs)\n",
            "  File \"<ipython-input-102-3250347c993f>\", line 18, in build\n",
            "    drop = hp.Choice(\"drop\", [0.1,0.2,0.3,0.4], parent_name = \"dropout\")\n",
            "  File \"/usr/local/lib/python3.7/dist-packages/keras_tuner/engine/hyperparameters.py\", line 787, in Choice\n",
            "    with self._maybe_conditional_scope(parent_name, parent_values):\n",
            "  File \"/usr/lib/python3.7/contextlib.py\", line 112, in __enter__\n",
            "    return next(self.gen)\n",
            "  File \"/usr/local/lib/python3.7/dist-packages/keras_tuner/engine/hyperparameters.py\", line 1077, in _maybe_conditional_scope\n",
            "    with self.conditional_scope(parent_name, parent_values):\n",
            "  File \"/usr/lib/python3.7/contextlib.py\", line 112, in __enter__\n",
            "    return next(self.gen)\n",
            "  File \"/usr/local/lib/python3.7/dist-packages/keras_tuner/engine/hyperparameters.py\", line 632, in conditional_scope\n",
            "    condition = conditions_mod.Parent(parent_name, parent_values)\n",
            "  File \"/usr/local/lib/python3.7/dist-packages/keras_tuner/engine/conditions.py\", line 108, in __init__\n",
            "    \"types: \" + str(type(first_val))\n",
            "TypeError: Can contain only `int`, `float`, `str`, or `bool`, found values: [None]with types: <class 'NoneType'>\n"
          ]
        },
        {
          "output_type": "error",
          "ename": "RuntimeError",
          "evalue": "ignored",
          "traceback": [
            "\u001b[0;31m---------------------------------------------------------------------------\u001b[0m",
            "\u001b[0;31mTypeError\u001b[0m                                 Traceback (most recent call last)",
            "\u001b[0;32m/usr/local/lib/python3.7/dist-packages/keras_tuner/engine/tuner.py\u001b[0m in \u001b[0;36m_try_build\u001b[0;34m(self, hp)\u001b[0m\n\u001b[1;32m    157\u001b[0m             \u001b[0;32mtry\u001b[0m\u001b[0;34m:\u001b[0m\u001b[0;34m\u001b[0m\u001b[0;34m\u001b[0m\u001b[0m\n\u001b[0;32m--> 158\u001b[0;31m                 \u001b[0mmodel\u001b[0m \u001b[0;34m=\u001b[0m \u001b[0mself\u001b[0m\u001b[0;34m.\u001b[0m\u001b[0m_build_hypermodel\u001b[0m\u001b[0;34m(\u001b[0m\u001b[0mhp\u001b[0m\u001b[0;34m)\u001b[0m\u001b[0;34m\u001b[0m\u001b[0;34m\u001b[0m\u001b[0m\n\u001b[0m\u001b[1;32m    159\u001b[0m             \u001b[0;32mexcept\u001b[0m\u001b[0;34m:\u001b[0m\u001b[0;34m\u001b[0m\u001b[0;34m\u001b[0m\u001b[0m\n",
            "\u001b[0;32m/usr/local/lib/python3.7/dist-packages/keras_tuner/engine/tuner.py\u001b[0m in \u001b[0;36m_build_hypermodel\u001b[0;34m(self, hp)\u001b[0m\n\u001b[1;32m    145\u001b[0m         \u001b[0;32mwith\u001b[0m \u001b[0mmaybe_distribute\u001b[0m\u001b[0;34m(\u001b[0m\u001b[0mself\u001b[0m\u001b[0;34m.\u001b[0m\u001b[0mdistribution_strategy\u001b[0m\u001b[0;34m)\u001b[0m\u001b[0;34m:\u001b[0m\u001b[0;34m\u001b[0m\u001b[0;34m\u001b[0m\u001b[0m\n\u001b[0;32m--> 146\u001b[0;31m             \u001b[0mmodel\u001b[0m \u001b[0;34m=\u001b[0m \u001b[0mself\u001b[0m\u001b[0;34m.\u001b[0m\u001b[0mhypermodel\u001b[0m\u001b[0;34m.\u001b[0m\u001b[0mbuild\u001b[0m\u001b[0;34m(\u001b[0m\u001b[0mhp\u001b[0m\u001b[0;34m)\u001b[0m\u001b[0;34m\u001b[0m\u001b[0;34m\u001b[0m\u001b[0m\n\u001b[0m\u001b[1;32m    147\u001b[0m             \u001b[0mself\u001b[0m\u001b[0;34m.\u001b[0m\u001b[0m_override_compile_args\u001b[0m\u001b[0;34m(\u001b[0m\u001b[0mmodel\u001b[0m\u001b[0;34m)\u001b[0m\u001b[0;34m\u001b[0m\u001b[0;34m\u001b[0m\u001b[0m\n",
            "\u001b[0;32m/usr/local/lib/python3.7/dist-packages/keras_tuner/engine/hypermodel.py\u001b[0m in \u001b[0;36m_build_wrapper\u001b[0;34m(self, hp, *args, **kwargs)\u001b[0m\n\u001b[1;32m    110\u001b[0m             \u001b[0mhp\u001b[0m \u001b[0;34m=\u001b[0m \u001b[0mhp\u001b[0m\u001b[0;34m.\u001b[0m\u001b[0mcopy\u001b[0m\u001b[0;34m(\u001b[0m\u001b[0;34m)\u001b[0m\u001b[0;34m\u001b[0m\u001b[0;34m\u001b[0m\u001b[0m\n\u001b[0;32m--> 111\u001b[0;31m         \u001b[0;32mreturn\u001b[0m \u001b[0mself\u001b[0m\u001b[0;34m.\u001b[0m\u001b[0m_build\u001b[0m\u001b[0;34m(\u001b[0m\u001b[0mhp\u001b[0m\u001b[0;34m,\u001b[0m \u001b[0;34m*\u001b[0m\u001b[0margs\u001b[0m\u001b[0;34m,\u001b[0m \u001b[0;34m**\u001b[0m\u001b[0mkwargs\u001b[0m\u001b[0;34m)\u001b[0m\u001b[0;34m\u001b[0m\u001b[0;34m\u001b[0m\u001b[0m\n\u001b[0m\u001b[1;32m    112\u001b[0m \u001b[0;34m\u001b[0m\u001b[0m\n",
            "\u001b[0;32m<ipython-input-102-3250347c993f>\u001b[0m in \u001b[0;36mbuild\u001b[0;34m(self, hp)\u001b[0m\n\u001b[1;32m     17\u001b[0m       \u001b[0;32mif\u001b[0m \u001b[0mhp\u001b[0m\u001b[0;34m.\u001b[0m\u001b[0mBoolean\u001b[0m\u001b[0;34m(\u001b[0m\u001b[0;34m\"dropout\"\u001b[0m\u001b[0;34m)\u001b[0m\u001b[0;34m:\u001b[0m\u001b[0;34m\u001b[0m\u001b[0;34m\u001b[0m\u001b[0m\n\u001b[0;32m---> 18\u001b[0;31m           \u001b[0mdrop\u001b[0m \u001b[0;34m=\u001b[0m \u001b[0mhp\u001b[0m\u001b[0;34m.\u001b[0m\u001b[0mChoice\u001b[0m\u001b[0;34m(\u001b[0m\u001b[0;34m\"drop\"\u001b[0m\u001b[0;34m,\u001b[0m \u001b[0;34m[\u001b[0m\u001b[0;36m0.1\u001b[0m\u001b[0;34m,\u001b[0m\u001b[0;36m0.2\u001b[0m\u001b[0;34m,\u001b[0m\u001b[0;36m0.3\u001b[0m\u001b[0;34m,\u001b[0m\u001b[0;36m0.4\u001b[0m\u001b[0;34m]\u001b[0m\u001b[0;34m,\u001b[0m \u001b[0mparent_name\u001b[0m \u001b[0;34m=\u001b[0m \u001b[0;34m\"dropout\"\u001b[0m\u001b[0;34m)\u001b[0m\u001b[0;34m\u001b[0m\u001b[0;34m\u001b[0m\u001b[0m\n\u001b[0m\u001b[1;32m     19\u001b[0m           \u001b[0mmodel\u001b[0m\u001b[0;34m.\u001b[0m\u001b[0madd\u001b[0m\u001b[0;34m(\u001b[0m\u001b[0mlayers\u001b[0m\u001b[0;34m.\u001b[0m\u001b[0mDropout\u001b[0m\u001b[0;34m(\u001b[0m\u001b[0mrate\u001b[0m\u001b[0;34m=\u001b[0m\u001b[0mdrop\u001b[0m\u001b[0;34m)\u001b[0m\u001b[0;34m)\u001b[0m\u001b[0;34m\u001b[0m\u001b[0;34m\u001b[0m\u001b[0m\n",
            "\u001b[0;32m/usr/local/lib/python3.7/dist-packages/keras_tuner/engine/hyperparameters.py\u001b[0m in \u001b[0;36mChoice\u001b[0;34m(self, name, values, ordered, default, parent_name, parent_values)\u001b[0m\n\u001b[1;32m    786\u001b[0m         \"\"\"\n\u001b[0;32m--> 787\u001b[0;31m         \u001b[0;32mwith\u001b[0m \u001b[0mself\u001b[0m\u001b[0;34m.\u001b[0m\u001b[0m_maybe_conditional_scope\u001b[0m\u001b[0;34m(\u001b[0m\u001b[0mparent_name\u001b[0m\u001b[0;34m,\u001b[0m \u001b[0mparent_values\u001b[0m\u001b[0;34m)\u001b[0m\u001b[0;34m:\u001b[0m\u001b[0;34m\u001b[0m\u001b[0;34m\u001b[0m\u001b[0m\n\u001b[0m\u001b[1;32m    788\u001b[0m             hp = Choice(\n",
            "\u001b[0;32m/usr/lib/python3.7/contextlib.py\u001b[0m in \u001b[0;36m__enter__\u001b[0;34m(self)\u001b[0m\n\u001b[1;32m    111\u001b[0m         \u001b[0;32mtry\u001b[0m\u001b[0;34m:\u001b[0m\u001b[0;34m\u001b[0m\u001b[0;34m\u001b[0m\u001b[0m\n\u001b[0;32m--> 112\u001b[0;31m             \u001b[0;32mreturn\u001b[0m \u001b[0mnext\u001b[0m\u001b[0;34m(\u001b[0m\u001b[0mself\u001b[0m\u001b[0;34m.\u001b[0m\u001b[0mgen\u001b[0m\u001b[0;34m)\u001b[0m\u001b[0;34m\u001b[0m\u001b[0;34m\u001b[0m\u001b[0m\n\u001b[0m\u001b[1;32m    113\u001b[0m         \u001b[0;32mexcept\u001b[0m \u001b[0mStopIteration\u001b[0m\u001b[0;34m:\u001b[0m\u001b[0;34m\u001b[0m\u001b[0;34m\u001b[0m\u001b[0m\n",
            "\u001b[0;32m/usr/local/lib/python3.7/dist-packages/keras_tuner/engine/hyperparameters.py\u001b[0m in \u001b[0;36m_maybe_conditional_scope\u001b[0;34m(self, parent_name, parent_values)\u001b[0m\n\u001b[1;32m   1076\u001b[0m         \u001b[0;32mif\u001b[0m \u001b[0mparent_name\u001b[0m\u001b[0;34m:\u001b[0m\u001b[0;34m\u001b[0m\u001b[0;34m\u001b[0m\u001b[0m\n\u001b[0;32m-> 1077\u001b[0;31m             \u001b[0;32mwith\u001b[0m \u001b[0mself\u001b[0m\u001b[0;34m.\u001b[0m\u001b[0mconditional_scope\u001b[0m\u001b[0;34m(\u001b[0m\u001b[0mparent_name\u001b[0m\u001b[0;34m,\u001b[0m \u001b[0mparent_values\u001b[0m\u001b[0;34m)\u001b[0m\u001b[0;34m:\u001b[0m\u001b[0;34m\u001b[0m\u001b[0;34m\u001b[0m\u001b[0m\n\u001b[0m\u001b[1;32m   1078\u001b[0m                 \u001b[0;32myield\u001b[0m\u001b[0;34m\u001b[0m\u001b[0;34m\u001b[0m\u001b[0m\n",
            "\u001b[0;32m/usr/lib/python3.7/contextlib.py\u001b[0m in \u001b[0;36m__enter__\u001b[0;34m(self)\u001b[0m\n\u001b[1;32m    111\u001b[0m         \u001b[0;32mtry\u001b[0m\u001b[0;34m:\u001b[0m\u001b[0;34m\u001b[0m\u001b[0;34m\u001b[0m\u001b[0m\n\u001b[0;32m--> 112\u001b[0;31m             \u001b[0;32mreturn\u001b[0m \u001b[0mnext\u001b[0m\u001b[0;34m(\u001b[0m\u001b[0mself\u001b[0m\u001b[0;34m.\u001b[0m\u001b[0mgen\u001b[0m\u001b[0;34m)\u001b[0m\u001b[0;34m\u001b[0m\u001b[0;34m\u001b[0m\u001b[0m\n\u001b[0m\u001b[1;32m    113\u001b[0m         \u001b[0;32mexcept\u001b[0m \u001b[0mStopIteration\u001b[0m\u001b[0;34m:\u001b[0m\u001b[0;34m\u001b[0m\u001b[0;34m\u001b[0m\u001b[0m\n",
            "\u001b[0;32m/usr/local/lib/python3.7/dist-packages/keras_tuner/engine/hyperparameters.py\u001b[0m in \u001b[0;36mconditional_scope\u001b[0;34m(self, parent_name, parent_values)\u001b[0m\n\u001b[1;32m    631\u001b[0m \u001b[0;34m\u001b[0m\u001b[0m\n\u001b[0;32m--> 632\u001b[0;31m         \u001b[0mcondition\u001b[0m \u001b[0;34m=\u001b[0m \u001b[0mconditions_mod\u001b[0m\u001b[0;34m.\u001b[0m\u001b[0mParent\u001b[0m\u001b[0;34m(\u001b[0m\u001b[0mparent_name\u001b[0m\u001b[0;34m,\u001b[0m \u001b[0mparent_values\u001b[0m\u001b[0;34m)\u001b[0m\u001b[0;34m\u001b[0m\u001b[0;34m\u001b[0m\u001b[0m\n\u001b[0m\u001b[1;32m    633\u001b[0m         \u001b[0mself\u001b[0m\u001b[0;34m.\u001b[0m\u001b[0m_conditions\u001b[0m\u001b[0;34m.\u001b[0m\u001b[0mappend\u001b[0m\u001b[0;34m(\u001b[0m\u001b[0mcondition\u001b[0m\u001b[0;34m)\u001b[0m\u001b[0;34m\u001b[0m\u001b[0;34m\u001b[0m\u001b[0m\n",
            "\u001b[0;32m/usr/local/lib/python3.7/dist-packages/keras_tuner/engine/conditions.py\u001b[0m in \u001b[0;36m__init__\u001b[0;34m(self, name, values)\u001b[0m\n\u001b[1;32m    107\u001b[0m                 \u001b[0;34m\"`bool`, found values: \"\u001b[0m \u001b[0;34m+\u001b[0m \u001b[0mstr\u001b[0m\u001b[0;34m(\u001b[0m\u001b[0mvalues\u001b[0m\u001b[0;34m)\u001b[0m \u001b[0;34m+\u001b[0m \u001b[0;34m\"with \"\u001b[0m\u001b[0;34m\u001b[0m\u001b[0;34m\u001b[0m\u001b[0m\n\u001b[0;32m--> 108\u001b[0;31m                 \u001b[0;34m\"types: \"\u001b[0m \u001b[0;34m+\u001b[0m \u001b[0mstr\u001b[0m\u001b[0;34m(\u001b[0m\u001b[0mtype\u001b[0m\u001b[0;34m(\u001b[0m\u001b[0mfirst_val\u001b[0m\u001b[0;34m)\u001b[0m\u001b[0;34m)\u001b[0m\u001b[0;34m\u001b[0m\u001b[0;34m\u001b[0m\u001b[0m\n\u001b[0m\u001b[1;32m    109\u001b[0m             )\n",
            "\u001b[0;31mTypeError\u001b[0m: Can contain only `int`, `float`, `str`, or `bool`, found values: [None]with types: <class 'NoneType'>",
            "\nDuring handling of the above exception, another exception occurred:\n",
            "\u001b[0;31mRuntimeError\u001b[0m                              Traceback (most recent call last)",
            "\u001b[0;32m<ipython-input-102-3250347c993f>\u001b[0m in \u001b[0;36m<module>\u001b[0;34m()\u001b[0m\n\u001b[1;32m     55\u001b[0m                      project_name='keras')\n\u001b[1;32m     56\u001b[0m \u001b[0;34m\u001b[0m\u001b[0m\n\u001b[0;32m---> 57\u001b[0;31m \u001b[0mtuner\u001b[0m\u001b[0;34m.\u001b[0m\u001b[0msearch\u001b[0m\u001b[0;34m(\u001b[0m\u001b[0mtrain_features\u001b[0m\u001b[0;34m,\u001b[0m \u001b[0mtrain_labels\u001b[0m\u001b[0;34m,\u001b[0m \u001b[0mepochs\u001b[0m\u001b[0;34m=\u001b[0m\u001b[0;36m10\u001b[0m\u001b[0;34m,\u001b[0m \u001b[0mvalidation_data\u001b[0m\u001b[0;34m=\u001b[0m\u001b[0;34m(\u001b[0m\u001b[0mval_features\u001b[0m\u001b[0;34m,\u001b[0m \u001b[0mval_labels\u001b[0m\u001b[0;34m)\u001b[0m\u001b[0;34m)\u001b[0m\u001b[0;34m\u001b[0m\u001b[0;34m\u001b[0m\u001b[0m\n\u001b[0m",
            "\u001b[0;32m/usr/local/lib/python3.7/dist-packages/keras_tuner/engine/base_tuner.py\u001b[0m in \u001b[0;36msearch\u001b[0;34m(self, *fit_args, **fit_kwargs)\u001b[0m\n\u001b[1;32m    177\u001b[0m \u001b[0;34m\u001b[0m\u001b[0m\n\u001b[1;32m    178\u001b[0m             \u001b[0mself\u001b[0m\u001b[0;34m.\u001b[0m\u001b[0mon_trial_begin\u001b[0m\u001b[0;34m(\u001b[0m\u001b[0mtrial\u001b[0m\u001b[0;34m)\u001b[0m\u001b[0;34m\u001b[0m\u001b[0;34m\u001b[0m\u001b[0m\n\u001b[0;32m--> 179\u001b[0;31m             \u001b[0mresults\u001b[0m \u001b[0;34m=\u001b[0m \u001b[0mself\u001b[0m\u001b[0;34m.\u001b[0m\u001b[0mrun_trial\u001b[0m\u001b[0;34m(\u001b[0m\u001b[0mtrial\u001b[0m\u001b[0;34m,\u001b[0m \u001b[0;34m*\u001b[0m\u001b[0mfit_args\u001b[0m\u001b[0;34m,\u001b[0m \u001b[0;34m**\u001b[0m\u001b[0mfit_kwargs\u001b[0m\u001b[0;34m)\u001b[0m\u001b[0;34m\u001b[0m\u001b[0;34m\u001b[0m\u001b[0m\n\u001b[0m\u001b[1;32m    180\u001b[0m             \u001b[0;31m# `results` is None indicates user updated oracle in `run_trial()`.\u001b[0m\u001b[0;34m\u001b[0m\u001b[0;34m\u001b[0m\u001b[0;34m\u001b[0m\u001b[0m\n\u001b[1;32m    181\u001b[0m             \u001b[0;32mif\u001b[0m \u001b[0mresults\u001b[0m \u001b[0;32mis\u001b[0m \u001b[0;32mNone\u001b[0m\u001b[0;34m:\u001b[0m\u001b[0;34m\u001b[0m\u001b[0;34m\u001b[0m\u001b[0m\n",
            "\u001b[0;32m/usr/local/lib/python3.7/dist-packages/keras_tuner/tuners/hyperband.py\u001b[0m in \u001b[0;36mrun_trial\u001b[0;34m(self, trial, *fit_args, **fit_kwargs)\u001b[0m\n\u001b[1;32m    382\u001b[0m             \u001b[0mfit_kwargs\u001b[0m\u001b[0;34m[\u001b[0m\u001b[0;34m\"epochs\"\u001b[0m\u001b[0;34m]\u001b[0m \u001b[0;34m=\u001b[0m \u001b[0mhp\u001b[0m\u001b[0;34m.\u001b[0m\u001b[0mvalues\u001b[0m\u001b[0;34m[\u001b[0m\u001b[0;34m\"tuner/epochs\"\u001b[0m\u001b[0;34m]\u001b[0m\u001b[0;34m\u001b[0m\u001b[0;34m\u001b[0m\u001b[0m\n\u001b[1;32m    383\u001b[0m             \u001b[0mfit_kwargs\u001b[0m\u001b[0;34m[\u001b[0m\u001b[0;34m\"initial_epoch\"\u001b[0m\u001b[0;34m]\u001b[0m \u001b[0;34m=\u001b[0m \u001b[0mhp\u001b[0m\u001b[0;34m.\u001b[0m\u001b[0mvalues\u001b[0m\u001b[0;34m[\u001b[0m\u001b[0;34m\"tuner/initial_epoch\"\u001b[0m\u001b[0;34m]\u001b[0m\u001b[0;34m\u001b[0m\u001b[0;34m\u001b[0m\u001b[0m\n\u001b[0;32m--> 384\u001b[0;31m         \u001b[0;32mreturn\u001b[0m \u001b[0msuper\u001b[0m\u001b[0;34m(\u001b[0m\u001b[0mHyperband\u001b[0m\u001b[0;34m,\u001b[0m \u001b[0mself\u001b[0m\u001b[0;34m)\u001b[0m\u001b[0;34m.\u001b[0m\u001b[0mrun_trial\u001b[0m\u001b[0;34m(\u001b[0m\u001b[0mtrial\u001b[0m\u001b[0;34m,\u001b[0m \u001b[0;34m*\u001b[0m\u001b[0mfit_args\u001b[0m\u001b[0;34m,\u001b[0m \u001b[0;34m**\u001b[0m\u001b[0mfit_kwargs\u001b[0m\u001b[0;34m)\u001b[0m\u001b[0;34m\u001b[0m\u001b[0;34m\u001b[0m\u001b[0m\n\u001b[0m\u001b[1;32m    385\u001b[0m \u001b[0;34m\u001b[0m\u001b[0m\n\u001b[1;32m    386\u001b[0m     \u001b[0;32mdef\u001b[0m \u001b[0m_build_model\u001b[0m\u001b[0;34m(\u001b[0m\u001b[0mself\u001b[0m\u001b[0;34m,\u001b[0m \u001b[0mhp\u001b[0m\u001b[0;34m)\u001b[0m\u001b[0;34m:\u001b[0m\u001b[0;34m\u001b[0m\u001b[0;34m\u001b[0m\u001b[0m\n",
            "\u001b[0;32m/usr/local/lib/python3.7/dist-packages/keras_tuner/engine/tuner.py\u001b[0m in \u001b[0;36mrun_trial\u001b[0;34m(self, trial, *args, **kwargs)\u001b[0m\n\u001b[1;32m    292\u001b[0m             \u001b[0mcallbacks\u001b[0m\u001b[0;34m.\u001b[0m\u001b[0mappend\u001b[0m\u001b[0;34m(\u001b[0m\u001b[0mmodel_checkpoint\u001b[0m\u001b[0;34m)\u001b[0m\u001b[0;34m\u001b[0m\u001b[0;34m\u001b[0m\u001b[0m\n\u001b[1;32m    293\u001b[0m             \u001b[0mcopied_kwargs\u001b[0m\u001b[0;34m[\u001b[0m\u001b[0;34m\"callbacks\"\u001b[0m\u001b[0;34m]\u001b[0m \u001b[0;34m=\u001b[0m \u001b[0mcallbacks\u001b[0m\u001b[0;34m\u001b[0m\u001b[0;34m\u001b[0m\u001b[0m\n\u001b[0;32m--> 294\u001b[0;31m             \u001b[0mobj_value\u001b[0m \u001b[0;34m=\u001b[0m \u001b[0mself\u001b[0m\u001b[0;34m.\u001b[0m\u001b[0m_build_and_fit_model\u001b[0m\u001b[0;34m(\u001b[0m\u001b[0mtrial\u001b[0m\u001b[0;34m,\u001b[0m \u001b[0;34m*\u001b[0m\u001b[0margs\u001b[0m\u001b[0;34m,\u001b[0m \u001b[0;34m**\u001b[0m\u001b[0mcopied_kwargs\u001b[0m\u001b[0;34m)\u001b[0m\u001b[0;34m\u001b[0m\u001b[0;34m\u001b[0m\u001b[0m\n\u001b[0m\u001b[1;32m    295\u001b[0m \u001b[0;34m\u001b[0m\u001b[0m\n\u001b[1;32m    296\u001b[0m             \u001b[0mhistories\u001b[0m\u001b[0;34m.\u001b[0m\u001b[0mappend\u001b[0m\u001b[0;34m(\u001b[0m\u001b[0mobj_value\u001b[0m\u001b[0;34m)\u001b[0m\u001b[0;34m\u001b[0m\u001b[0;34m\u001b[0m\u001b[0m\n",
            "\u001b[0;32m/usr/local/lib/python3.7/dist-packages/keras_tuner/engine/tuner.py\u001b[0m in \u001b[0;36m_build_and_fit_model\u001b[0;34m(self, trial, *args, **kwargs)\u001b[0m\n\u001b[1;32m    219\u001b[0m         \"\"\"\n\u001b[1;32m    220\u001b[0m         \u001b[0mhp\u001b[0m \u001b[0;34m=\u001b[0m \u001b[0mtrial\u001b[0m\u001b[0;34m.\u001b[0m\u001b[0mhyperparameters\u001b[0m\u001b[0;34m\u001b[0m\u001b[0;34m\u001b[0m\u001b[0m\n\u001b[0;32m--> 221\u001b[0;31m         \u001b[0mmodel\u001b[0m \u001b[0;34m=\u001b[0m \u001b[0mself\u001b[0m\u001b[0;34m.\u001b[0m\u001b[0m_try_build\u001b[0m\u001b[0;34m(\u001b[0m\u001b[0mhp\u001b[0m\u001b[0;34m)\u001b[0m\u001b[0;34m\u001b[0m\u001b[0;34m\u001b[0m\u001b[0m\n\u001b[0m\u001b[1;32m    222\u001b[0m         \u001b[0mresults\u001b[0m \u001b[0;34m=\u001b[0m \u001b[0mself\u001b[0m\u001b[0;34m.\u001b[0m\u001b[0mhypermodel\u001b[0m\u001b[0;34m.\u001b[0m\u001b[0mfit\u001b[0m\u001b[0;34m(\u001b[0m\u001b[0mhp\u001b[0m\u001b[0;34m,\u001b[0m \u001b[0mmodel\u001b[0m\u001b[0;34m,\u001b[0m \u001b[0;34m*\u001b[0m\u001b[0margs\u001b[0m\u001b[0;34m,\u001b[0m \u001b[0;34m**\u001b[0m\u001b[0mkwargs\u001b[0m\u001b[0;34m)\u001b[0m\u001b[0;34m\u001b[0m\u001b[0;34m\u001b[0m\u001b[0m\n\u001b[1;32m    223\u001b[0m         return tuner_utils.convert_to_metrics_dict(\n",
            "\u001b[0;32m/usr/local/lib/python3.7/dist-packages/keras_tuner/engine/tuner.py\u001b[0m in \u001b[0;36m_try_build\u001b[0;34m(self, hp)\u001b[0m\n\u001b[1;32m    164\u001b[0m \u001b[0;34m\u001b[0m\u001b[0m\n\u001b[1;32m    165\u001b[0m                 \u001b[0;32mif\u001b[0m \u001b[0mi\u001b[0m \u001b[0;34m==\u001b[0m \u001b[0mMAX_FAIL_STREAK\u001b[0m\u001b[0;34m:\u001b[0m\u001b[0;34m\u001b[0m\u001b[0;34m\u001b[0m\u001b[0m\n\u001b[0;32m--> 166\u001b[0;31m                     \u001b[0;32mraise\u001b[0m \u001b[0mRuntimeError\u001b[0m\u001b[0;34m(\u001b[0m\u001b[0;34m\"Too many failed attempts to build model.\"\u001b[0m\u001b[0;34m)\u001b[0m\u001b[0;34m\u001b[0m\u001b[0;34m\u001b[0m\u001b[0m\n\u001b[0m\u001b[1;32m    167\u001b[0m                 \u001b[0;32mcontinue\u001b[0m\u001b[0;34m\u001b[0m\u001b[0;34m\u001b[0m\u001b[0m\n\u001b[1;32m    168\u001b[0m \u001b[0;34m\u001b[0m\u001b[0m\n",
            "\u001b[0;31mRuntimeError\u001b[0m: Too many failed attempts to build model."
          ]
        }
      ]
    },
    {
      "cell_type": "code",
      "source": [
        "stop_early = tf.keras.callbacks.EarlyStopping(monitor='val_binary_accuracy', patience=5)"
      ],
      "metadata": {
        "id": "CUGRRiQmjgLJ"
      },
      "execution_count": 92,
      "outputs": []
    },
    {
      "cell_type": "code",
      "source": [
        "tuner.search(train_features, train_labels, epochs=50, validation_split=0.2, callbacks=[stop_early])\n",
        "\n",
        "# Get the optimal hyperparameters\n",
        "best_hps=tuner.get_best_hyperparameters(num_trials=1)[0]\n"
      ],
      "metadata": {
        "colab": {
          "base_uri": "https://localhost:8080/"
        },
        "id": "km3ObilHjks4",
        "outputId": "038ed621-8067-4e45-f295-3f01fd6702c4"
      },
      "execution_count": 93,
      "outputs": [
        {
          "output_type": "stream",
          "name": "stdout",
          "text": [
            "Trial 42 Complete [00h 00m 44s]\n",
            "val_binary_accuracy: 0.6455714106559753\n",
            "\n",
            "Best val_binary_accuracy So Far: 0.6562857031822205\n",
            "Total elapsed time: 00h 23m 03s\n",
            "INFO:tensorflow:Oracle triggered exit\n"
          ]
        },
        {
          "output_type": "stream",
          "name": "stderr",
          "text": [
            "INFO:tensorflow:Oracle triggered exit\n"
          ]
        }
      ]
    },
    {
      "cell_type": "code",
      "source": [
        "tuner.search_space_summary()"
      ],
      "metadata": {
        "colab": {
          "base_uri": "https://localhost:8080/"
        },
        "id": "N0SqbKz1M5FW",
        "outputId": "7401c6db-70aa-4e8e-ac74-afdc7d6101b3"
      },
      "execution_count": 95,
      "outputs": [
        {
          "output_type": "stream",
          "name": "stdout",
          "text": [
            "Search space summary\n",
            "Default search space size: 16\n",
            "num_layers (Int)\n",
            "{'default': None, 'conditions': [], 'min_value': 1, 'max_value': 10, 'step': 1, 'sampling': None}\n",
            "units_0 (Int)\n",
            "{'default': None, 'conditions': [], 'min_value': 32, 'max_value': 512, 'step': 32, 'sampling': None}\n",
            "activation (Choice)\n",
            "{'default': 'relu', 'conditions': [], 'values': ['relu', 'tanh'], 'ordered': False}\n",
            "dropout (Boolean)\n",
            "{'default': False, 'conditions': []}\n",
            "lr (Float)\n",
            "{'default': 0.0001, 'conditions': [], 'min_value': 0.0001, 'max_value': 0.01, 'step': None, 'sampling': 'log'}\n",
            "units_1 (Int)\n",
            "{'default': None, 'conditions': [], 'min_value': 32, 'max_value': 512, 'step': 32, 'sampling': None}\n",
            "units_2 (Int)\n",
            "{'default': None, 'conditions': [], 'min_value': 32, 'max_value': 512, 'step': 32, 'sampling': None}\n",
            "normalize (Boolean)\n",
            "{'default': False, 'conditions': []}\n",
            "shuffle (Boolean)\n",
            "{'default': False, 'conditions': []}\n",
            "units_3 (Int)\n",
            "{'default': None, 'conditions': [], 'min_value': 32, 'max_value': 512, 'step': 32, 'sampling': None}\n",
            "units_4 (Int)\n",
            "{'default': None, 'conditions': [], 'min_value': 32, 'max_value': 512, 'step': 32, 'sampling': None}\n",
            "units_5 (Int)\n",
            "{'default': None, 'conditions': [], 'min_value': 32, 'max_value': 512, 'step': 32, 'sampling': None}\n",
            "units_6 (Int)\n",
            "{'default': None, 'conditions': [], 'min_value': 32, 'max_value': 512, 'step': 32, 'sampling': None}\n",
            "units_7 (Int)\n",
            "{'default': None, 'conditions': [], 'min_value': 32, 'max_value': 512, 'step': 32, 'sampling': None}\n",
            "units_8 (Int)\n",
            "{'default': None, 'conditions': [], 'min_value': 32, 'max_value': 512, 'step': 32, 'sampling': None}\n",
            "units_9 (Int)\n",
            "{'default': None, 'conditions': [], 'min_value': 32, 'max_value': 512, 'step': 32, 'sampling': None}\n"
          ]
        }
      ]
    },
    {
      "cell_type": "code",
      "source": [
        "#Train the model\n",
        "# Build the model with the optimal hyperparameters and train it on the data for 50 epochs\n",
        "model = tuner.hypermodel.build(best_hps)\n",
        "history = model.fit(train_features, train_labels, epochs=50, validation_split=0.2)"
      ],
      "metadata": {
        "colab": {
          "base_uri": "https://localhost:8080/"
        },
        "id": "SCxCmi7djlav",
        "outputId": "48a2f21b-e2cd-4d63-9ab3-260a8139e03f"
      },
      "execution_count": 79,
      "outputs": [
        {
          "output_type": "stream",
          "name": "stdout",
          "text": [
            "Epoch 1/50\n"
          ]
        },
        {
          "output_type": "stream",
          "name": "stderr",
          "text": [
            "/usr/local/lib/python3.7/dist-packages/tensorflow/python/util/dispatch.py:1082: UserWarning: \"`binary_crossentropy` received `from_logits=True`, but the `output` argument was produced by a sigmoid or softmax activation and thus does not represent logits. Was this intended?\"\n",
            "  return dispatch_target(*args, **kwargs)\n"
          ]
        },
        {
          "output_type": "stream",
          "name": "stdout",
          "text": [
            "1094/1094 [==============================] - 5s 4ms/step - loss: 0.6637 - binary_accuracy: 0.6087 - val_loss: 0.6554 - val_binary_accuracy: 0.6306\n",
            "Epoch 2/50\n",
            "1094/1094 [==============================] - 5s 4ms/step - loss: 0.6522 - binary_accuracy: 0.6276 - val_loss: 0.6440 - val_binary_accuracy: 0.6414\n",
            "Epoch 3/50\n",
            "1094/1094 [==============================] - 4s 4ms/step - loss: 0.6450 - binary_accuracy: 0.6322 - val_loss: 0.6437 - val_binary_accuracy: 0.6381\n",
            "Epoch 4/50\n",
            "1094/1094 [==============================] - 4s 4ms/step - loss: 0.6381 - binary_accuracy: 0.6391 - val_loss: 0.6358 - val_binary_accuracy: 0.6427\n",
            "Epoch 5/50\n",
            "1094/1094 [==============================] - 4s 4ms/step - loss: 0.6314 - binary_accuracy: 0.6448 - val_loss: 0.6342 - val_binary_accuracy: 0.6439\n",
            "Epoch 6/50\n",
            "1094/1094 [==============================] - 4s 4ms/step - loss: 0.6239 - binary_accuracy: 0.6514 - val_loss: 0.6298 - val_binary_accuracy: 0.6433\n",
            "Epoch 7/50\n",
            "1094/1094 [==============================] - 4s 4ms/step - loss: 0.6164 - binary_accuracy: 0.6601 - val_loss: 0.6376 - val_binary_accuracy: 0.6449\n",
            "Epoch 8/50\n",
            "1094/1094 [==============================] - 4s 4ms/step - loss: 0.6069 - binary_accuracy: 0.6683 - val_loss: 0.6262 - val_binary_accuracy: 0.6496\n",
            "Epoch 9/50\n",
            "1094/1094 [==============================] - 4s 4ms/step - loss: 0.5971 - binary_accuracy: 0.6772 - val_loss: 0.6371 - val_binary_accuracy: 0.6390\n",
            "Epoch 10/50\n",
            "1094/1094 [==============================] - 4s 4ms/step - loss: 0.5848 - binary_accuracy: 0.6857 - val_loss: 0.6513 - val_binary_accuracy: 0.6336\n",
            "Epoch 11/50\n",
            "1094/1094 [==============================] - 4s 4ms/step - loss: 0.5730 - binary_accuracy: 0.6944 - val_loss: 0.6651 - val_binary_accuracy: 0.6431\n",
            "Epoch 12/50\n",
            "1094/1094 [==============================] - 4s 4ms/step - loss: 0.5569 - binary_accuracy: 0.7084 - val_loss: 0.6440 - val_binary_accuracy: 0.6416\n",
            "Epoch 13/50\n",
            "1094/1094 [==============================] - 4s 4ms/step - loss: 0.5430 - binary_accuracy: 0.7170 - val_loss: 0.6655 - val_binary_accuracy: 0.6377\n",
            "Epoch 14/50\n",
            "1094/1094 [==============================] - 4s 4ms/step - loss: 0.5257 - binary_accuracy: 0.7291 - val_loss: 0.6990 - val_binary_accuracy: 0.6341\n",
            "Epoch 15/50\n",
            "1094/1094 [==============================] - 4s 4ms/step - loss: 0.5076 - binary_accuracy: 0.7392 - val_loss: 0.7138 - val_binary_accuracy: 0.6255\n",
            "Epoch 16/50\n",
            "1094/1094 [==============================] - 4s 4ms/step - loss: 0.4893 - binary_accuracy: 0.7545 - val_loss: 0.7235 - val_binary_accuracy: 0.6369\n",
            "Epoch 17/50\n",
            "1094/1094 [==============================] - 4s 4ms/step - loss: 0.4700 - binary_accuracy: 0.7672 - val_loss: 0.7373 - val_binary_accuracy: 0.6234\n",
            "Epoch 18/50\n",
            "1094/1094 [==============================] - 4s 4ms/step - loss: 0.4496 - binary_accuracy: 0.7787 - val_loss: 0.7579 - val_binary_accuracy: 0.6123\n",
            "Epoch 19/50\n",
            "1094/1094 [==============================] - 4s 4ms/step - loss: 0.4333 - binary_accuracy: 0.7902 - val_loss: 0.7762 - val_binary_accuracy: 0.6359\n",
            "Epoch 20/50\n",
            "1094/1094 [==============================] - 4s 4ms/step - loss: 0.4123 - binary_accuracy: 0.8025 - val_loss: 0.8487 - val_binary_accuracy: 0.6288\n",
            "Epoch 21/50\n",
            "1094/1094 [==============================] - 4s 4ms/step - loss: 0.3912 - binary_accuracy: 0.8120 - val_loss: 0.9211 - val_binary_accuracy: 0.6297\n",
            "Epoch 22/50\n",
            "1094/1094 [==============================] - 4s 4ms/step - loss: 0.3750 - binary_accuracy: 0.8213 - val_loss: 0.9555 - val_binary_accuracy: 0.6357\n",
            "Epoch 23/50\n",
            "1094/1094 [==============================] - 4s 4ms/step - loss: 0.3574 - binary_accuracy: 0.8325 - val_loss: 1.0262 - val_binary_accuracy: 0.6253\n",
            "Epoch 24/50\n",
            "1094/1094 [==============================] - 4s 4ms/step - loss: 0.3363 - binary_accuracy: 0.8424 - val_loss: 1.0500 - val_binary_accuracy: 0.6283\n",
            "Epoch 25/50\n",
            "1094/1094 [==============================] - 4s 4ms/step - loss: 0.3195 - binary_accuracy: 0.8525 - val_loss: 1.0114 - val_binary_accuracy: 0.6217\n",
            "Epoch 26/50\n",
            "1094/1094 [==============================] - 4s 4ms/step - loss: 0.3090 - binary_accuracy: 0.8574 - val_loss: 1.1357 - val_binary_accuracy: 0.6274\n",
            "Epoch 27/50\n",
            "1094/1094 [==============================] - 4s 4ms/step - loss: 0.2895 - binary_accuracy: 0.8690 - val_loss: 1.2290 - val_binary_accuracy: 0.6199\n",
            "Epoch 28/50\n",
            "1094/1094 [==============================] - 4s 4ms/step - loss: 0.2753 - binary_accuracy: 0.8746 - val_loss: 1.1683 - val_binary_accuracy: 0.5986\n",
            "Epoch 29/50\n",
            "1094/1094 [==============================] - 4s 4ms/step - loss: 0.2636 - binary_accuracy: 0.8821 - val_loss: 1.1990 - val_binary_accuracy: 0.6346\n",
            "Epoch 30/50\n",
            "1094/1094 [==============================] - 4s 4ms/step - loss: 0.2455 - binary_accuracy: 0.8923 - val_loss: 1.2066 - val_binary_accuracy: 0.6110\n",
            "Epoch 31/50\n",
            "1094/1094 [==============================] - 4s 4ms/step - loss: 0.2355 - binary_accuracy: 0.8969 - val_loss: 1.3948 - val_binary_accuracy: 0.6047\n",
            "Epoch 32/50\n",
            "1094/1094 [==============================] - 4s 4ms/step - loss: 0.2238 - binary_accuracy: 0.9040 - val_loss: 1.3596 - val_binary_accuracy: 0.6144\n",
            "Epoch 33/50\n",
            "1094/1094 [==============================] - 4s 4ms/step - loss: 0.2119 - binary_accuracy: 0.9080 - val_loss: 1.3976 - val_binary_accuracy: 0.6240\n",
            "Epoch 34/50\n",
            "1094/1094 [==============================] - 4s 4ms/step - loss: 0.2016 - binary_accuracy: 0.9130 - val_loss: 1.4189 - val_binary_accuracy: 0.6174\n",
            "Epoch 35/50\n",
            "1094/1094 [==============================] - 4s 4ms/step - loss: 0.1898 - binary_accuracy: 0.9196 - val_loss: 1.6583 - val_binary_accuracy: 0.6224\n",
            "Epoch 36/50\n",
            "1094/1094 [==============================] - 4s 4ms/step - loss: 0.1834 - binary_accuracy: 0.9232 - val_loss: 1.5203 - val_binary_accuracy: 0.6098\n",
            "Epoch 37/50\n",
            "1094/1094 [==============================] - 4s 4ms/step - loss: 0.1761 - binary_accuracy: 0.9262 - val_loss: 1.6500 - val_binary_accuracy: 0.6134\n",
            "Epoch 38/50\n",
            "1094/1094 [==============================] - 4s 4ms/step - loss: 0.1649 - binary_accuracy: 0.9313 - val_loss: 1.7768 - val_binary_accuracy: 0.6104\n",
            "Epoch 39/50\n",
            "1094/1094 [==============================] - 4s 4ms/step - loss: 0.1611 - binary_accuracy: 0.9338 - val_loss: 1.6919 - val_binary_accuracy: 0.6218\n",
            "Epoch 40/50\n",
            "1094/1094 [==============================] - 4s 4ms/step - loss: 0.1558 - binary_accuracy: 0.9374 - val_loss: 1.6454 - val_binary_accuracy: 0.6169\n",
            "Epoch 41/50\n",
            "1094/1094 [==============================] - 4s 4ms/step - loss: 0.1505 - binary_accuracy: 0.9397 - val_loss: 1.8370 - val_binary_accuracy: 0.6214\n",
            "Epoch 42/50\n",
            "1094/1094 [==============================] - 4s 4ms/step - loss: 0.1396 - binary_accuracy: 0.9449 - val_loss: 1.9614 - val_binary_accuracy: 0.6201\n",
            "Epoch 43/50\n",
            "1094/1094 [==============================] - 4s 4ms/step - loss: 0.1427 - binary_accuracy: 0.9445 - val_loss: 1.6727 - val_binary_accuracy: 0.6171\n",
            "Epoch 44/50\n",
            "1094/1094 [==============================] - 4s 4ms/step - loss: 0.1331 - binary_accuracy: 0.9461 - val_loss: 1.8779 - val_binary_accuracy: 0.6226\n",
            "Epoch 45/50\n",
            "1094/1094 [==============================] - 5s 4ms/step - loss: 0.1253 - binary_accuracy: 0.9501 - val_loss: 1.8578 - val_binary_accuracy: 0.6162\n",
            "Epoch 46/50\n",
            "1094/1094 [==============================] - 5s 4ms/step - loss: 0.1258 - binary_accuracy: 0.9502 - val_loss: 1.7221 - val_binary_accuracy: 0.6177\n",
            "Epoch 47/50\n",
            "1094/1094 [==============================] - 4s 4ms/step - loss: 0.1200 - binary_accuracy: 0.9515 - val_loss: 1.8074 - val_binary_accuracy: 0.6070\n",
            "Epoch 48/50\n",
            "1094/1094 [==============================] - 4s 4ms/step - loss: 0.1112 - binary_accuracy: 0.9561 - val_loss: 1.9854 - val_binary_accuracy: 0.6227\n",
            "Epoch 49/50\n",
            "1094/1094 [==============================] - 4s 4ms/step - loss: 0.1137 - binary_accuracy: 0.9551 - val_loss: 1.9080 - val_binary_accuracy: 0.6134\n",
            "Epoch 50/50\n",
            "1094/1094 [==============================] - 4s 4ms/step - loss: 0.1093 - binary_accuracy: 0.9569 - val_loss: 2.1252 - val_binary_accuracy: 0.6240\n"
          ]
        }
      ]
    },
    {
      "cell_type": "code",
      "source": [
        "val_acc_per_epoch = history.history['val_binary_accuracy']\n",
        "best_epoch = val_acc_per_epoch.index(max(val_acc_per_epoch)) + 1\n",
        "print('Best epoch: %d' % (best_epoch,))"
      ],
      "metadata": {
        "colab": {
          "base_uri": "https://localhost:8080/"
        },
        "id": "22DSmya7HAfr",
        "outputId": "a27642fd-72d8-41e4-e4d1-7467c7ee4c8c"
      },
      "execution_count": 96,
      "outputs": [
        {
          "output_type": "stream",
          "name": "stdout",
          "text": [
            "Best epoch: 8\n"
          ]
        }
      ]
    },
    {
      "cell_type": "code",
      "source": [
        "hypermodel = tuner.hypermodel.build(best_hps)\n",
        "\n",
        "# Retrain the model\n",
        "hypermodel.fit(train_features, train_labels, epochs=best_epoch, validation_split=0.2)"
      ],
      "metadata": {
        "colab": {
          "base_uri": "https://localhost:8080/"
        },
        "id": "m-Cy04Nsjsb9",
        "outputId": "b57577d2-26a8-4f32-cbaf-b081552207da"
      },
      "execution_count": 97,
      "outputs": [
        {
          "output_type": "stream",
          "name": "stdout",
          "text": [
            "Epoch 1/8\n"
          ]
        },
        {
          "output_type": "stream",
          "name": "stderr",
          "text": [
            "/usr/local/lib/python3.7/dist-packages/tensorflow/python/util/dispatch.py:1082: UserWarning: \"`binary_crossentropy` received `from_logits=True`, but the `output` argument was produced by a sigmoid or softmax activation and thus does not represent logits. Was this intended?\"\n",
            "  return dispatch_target(*args, **kwargs)\n"
          ]
        },
        {
          "output_type": "stream",
          "name": "stdout",
          "text": [
            "875/875 [==============================] - 3s 3ms/step - loss: 0.6653 - binary_accuracy: 0.6064 - val_loss: 0.6529 - val_binary_accuracy: 0.6287\n",
            "Epoch 2/8\n",
            "875/875 [==============================] - 2s 3ms/step - loss: 0.6525 - binary_accuracy: 0.6257 - val_loss: 0.6455 - val_binary_accuracy: 0.6333\n",
            "Epoch 3/8\n",
            "875/875 [==============================] - 3s 3ms/step - loss: 0.6438 - binary_accuracy: 0.6337 - val_loss: 0.6612 - val_binary_accuracy: 0.6014\n",
            "Epoch 4/8\n",
            "875/875 [==============================] - 3s 3ms/step - loss: 0.6377 - binary_accuracy: 0.6379 - val_loss: 0.6392 - val_binary_accuracy: 0.6416\n",
            "Epoch 5/8\n",
            "875/875 [==============================] - 3s 3ms/step - loss: 0.6300 - binary_accuracy: 0.6479 - val_loss: 0.6327 - val_binary_accuracy: 0.6471\n",
            "Epoch 6/8\n",
            "875/875 [==============================] - 3s 3ms/step - loss: 0.6246 - binary_accuracy: 0.6533 - val_loss: 0.6319 - val_binary_accuracy: 0.6457\n",
            "Epoch 7/8\n",
            "875/875 [==============================] - 3s 3ms/step - loss: 0.6186 - binary_accuracy: 0.6574 - val_loss: 0.6335 - val_binary_accuracy: 0.6486\n",
            "Epoch 8/8\n",
            "875/875 [==============================] - 3s 3ms/step - loss: 0.6126 - binary_accuracy: 0.6637 - val_loss: 0.6306 - val_binary_accuracy: 0.6474\n"
          ]
        },
        {
          "output_type": "execute_result",
          "data": {
            "text/plain": [
              "<keras.callbacks.History at 0x7f218271abd0>"
            ]
          },
          "metadata": {},
          "execution_count": 97
        }
      ]
    },
    {
      "cell_type": "code",
      "source": [
        "eval_result = hypermodel.evaluate(test_features, test_labels)\n",
        "print(\"[test loss, test accuracy]:\", eval_result)"
      ],
      "metadata": {
        "colab": {
          "base_uri": "https://localhost:8080/"
        },
        "id": "1Fn7BpMGjur4",
        "outputId": "7ce64d5b-761e-44c0-c898-ba6b8f576abd"
      },
      "execution_count": 98,
      "outputs": [
        {
          "output_type": "stream",
          "name": "stdout",
          "text": [
            "342/342 [==============================] - 1s 2ms/step - loss: 0.6385 - binary_accuracy: 0.6393\n",
            "[test loss, test accuracy]: [0.6385493278503418, 0.6392977833747864]\n"
          ]
        }
      ]
    },
    {
      "cell_type": "code",
      "source": [
        "from sklearn.metrics import confusion_matrix\n",
        "import matplotlib.pyplot as plt\n",
        "import seaborn as sns\n",
        "import pandas as pd \n",
        "\n",
        "pred_labels = hypermodel.predict(test_features) > 0.5\n",
        "print(confusion_matrix(test_labels, pred_labels))\n"
      ],
      "metadata": {
        "colab": {
          "base_uri": "https://localhost:8080/"
        },
        "id": "mvwT_kY-bQIf",
        "outputId": "46cb2cb9-075b-4e2d-8fbf-a413f6cf233a"
      },
      "execution_count": 134,
      "outputs": [
        {
          "output_type": "stream",
          "name": "stdout",
          "text": [
            "[[5401 1011]\n",
            " [2934 1591]]\n"
          ]
        }
      ]
    },
    {
      "cell_type": "code",
      "source": [
        "from matplotlib import pyplot\n",
        "\n",
        "pyplot.plot(history.history['binary_accuracy'], label='train')\n",
        "pyplot.plot(history.history['val_binary_accuracy'], label='test')\n",
        "pyplot.legend()\n",
        "pyplot.show()"
      ],
      "metadata": {
        "colab": {
          "base_uri": "https://localhost:8080/",
          "height": 265
        },
        "id": "DaMtwHPJYDnS",
        "outputId": "00b7b96c-1522-46b1-d0b3-d569d16b3c5b"
      },
      "execution_count": 135,
      "outputs": [
        {
          "output_type": "display_data",
          "data": {
            "text/plain": [
              "<Figure size 432x288 with 1 Axes>"
            ],
            "image/png": "[encoded data removed]"
          },
          "metadata": {
            "needs_background": "light"
          }
        }
      ]
    }
  ]
}